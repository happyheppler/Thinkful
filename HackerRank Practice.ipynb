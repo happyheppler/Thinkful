{
 "cells": [
  {
   "cell_type": "code",
   "execution_count": 8,
   "metadata": {},
   "outputs": [],
   "source": [
    "def sockMerchant(n, ar):\n",
    "    \n",
    "    from collections import Counter\n",
    "    \n",
    "    pairs = 0\n",
    "    sock_dict = Counter(ar)\n",
    "    sock_counts = sock_dict.values()\n",
    "    \n",
    "    for count in sock_counts:\n",
    "        pairs += count // 2\n",
    "    \n",
    "    return pairs"
   ]
  },
  {
   "cell_type": "code",
   "execution_count": 9,
   "metadata": {},
   "outputs": [
    {
     "data": {
      "text/plain": [
       "3"
      ]
     },
     "execution_count": 9,
     "metadata": {},
     "output_type": "execute_result"
    }
   ],
   "source": [
    "sockMerchant(9, [10, 20, 20, 10, 10, 30, 50, 10, 20])"
   ]
  },
  {
   "cell_type": "code",
   "execution_count": 36,
   "metadata": {},
   "outputs": [],
   "source": [
    "def countingValleys(n, s):\n",
    "    \n",
    "    altitude = 0\n",
    "    valley = 0\n",
    "    \n",
    "    for letter in s:\n",
    "        if letter == 'U':\n",
    "            altitude += 1\n",
    "        elif letter == 'D':\n",
    "            altitude -= 1 \n",
    "        \n",
    "        if altitude == 0 and letter == 'U':\n",
    "            valley += 1\n",
    "            \n",
    "    return valley\n",
    "            "
   ]
  },
  {
   "cell_type": "code",
   "execution_count": 38,
   "metadata": {},
   "outputs": [
    {
     "data": {
      "text/plain": [
       "2"
      ]
     },
     "execution_count": 38,
     "metadata": {},
     "output_type": "execute_result"
    }
   ],
   "source": [
    "countingValleys(12, 'DDUUDDUDUUUD')"
   ]
  },
  {
   "cell_type": "code",
   "execution_count": 158,
   "metadata": {},
   "outputs": [],
   "source": [
    "def jumpingOnClouds(c):\n",
    "    import numpy as np\n",
    "    \n",
    "    cloud_array = np.array(c)\n",
    "    bad_clouds = np.where(cloud_array == 1)[0]\n",
    "    \n",
    "    cloud = 0\n",
    "    jumps = 0\n",
    "    \n",
    "    while cloud < len(c) - 1:\n",
    "    \n",
    "        if cloud not in bad_clouds:\n",
    "            cloud += 2\n",
    "            jumps += 1\n",
    "        \n",
    "        elif cloud in bad_clouds:\n",
    "            cloud -= 1\n",
    "        \n",
    "    if cloud == len(c):\n",
    "        return jumps\n",
    "            \n",
    "    elif cloud == len(c) - 1:\n",
    "        return jumps"
   ]
  },
  {
   "cell_type": "code",
   "execution_count": 159,
   "metadata": {},
   "outputs": [
    {
     "data": {
      "text/plain": [
       "4"
      ]
     },
     "execution_count": 159,
     "metadata": {},
     "output_type": "execute_result"
    }
   ],
   "source": [
    "jumpingOnClouds([0, 0, 1, 0, 0, 1, 0])"
   ]
  },
  {
   "cell_type": "code",
   "execution_count": 160,
   "metadata": {},
   "outputs": [
    {
     "data": {
      "text/plain": [
       "3"
      ]
     },
     "execution_count": 160,
     "metadata": {},
     "output_type": "execute_result"
    }
   ],
   "source": [
    "jumpingOnClouds([0, 0, 0, 0, 1, 0])"
   ]
  },
  {
   "cell_type": "code",
   "execution_count": 168,
   "metadata": {},
   "outputs": [],
   "source": [
    "def jumpingOnClouds(c):\n",
    "    bad_clouds = []\n",
    "    \n",
    "    for index in range(len(c)):\n",
    "        if c[index] == 1:\n",
    "            bad_clouds.append(index)\n",
    "    \n",
    "    cloud = 0\n",
    "    jumps = 0\n",
    "    \n",
    "    while cloud < len(c) - 1:\n",
    "    \n",
    "        if cloud not in bad_clouds:\n",
    "            cloud += 2\n",
    "            jumps += 1\n",
    "        \n",
    "        elif cloud in bad_clouds:\n",
    "            cloud -= 1\n",
    "        \n",
    "    if cloud == len(c):\n",
    "        return jumps\n",
    "            \n",
    "    elif cloud == len(c) - 1:\n",
    "        return jumps"
   ]
  },
  {
   "cell_type": "code",
   "execution_count": 170,
   "metadata": {},
   "outputs": [
    {
     "data": {
      "text/plain": [
       "4"
      ]
     },
     "execution_count": 170,
     "metadata": {},
     "output_type": "execute_result"
    }
   ],
   "source": [
    "jumpingOnClouds([0, 0, 1, 0, 0, 1, 0])"
   ]
  },
  {
   "cell_type": "code",
   "execution_count": 171,
   "metadata": {},
   "outputs": [
    {
     "data": {
      "text/plain": [
       "3"
      ]
     },
     "execution_count": 171,
     "metadata": {},
     "output_type": "execute_result"
    }
   ],
   "source": [
    "jumpingOnClouds([0, 0, 0, 0, 1, 0])"
   ]
  },
  {
   "cell_type": "code",
   "execution_count": null,
   "metadata": {},
   "outputs": [],
   "source": []
  }
 ],
 "metadata": {
  "kernelspec": {
   "display_name": "Python 3",
   "language": "python",
   "name": "python3"
  },
  "language_info": {
   "codemirror_mode": {
    "name": "ipython",
    "version": 3
   },
   "file_extension": ".py",
   "mimetype": "text/x-python",
   "name": "python",
   "nbconvert_exporter": "python",
   "pygments_lexer": "ipython3",
   "version": "3.6.6"
  }
 },
 "nbformat": 4,
 "nbformat_minor": 2
}
