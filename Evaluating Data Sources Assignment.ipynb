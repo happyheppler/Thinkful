{
 "cells": [
  {
   "cell_type": "markdown",
   "metadata": {},
   "source": [
    "Bayes Practice Problems"
   ]
  },
  {
   "cell_type": "markdown",
   "metadata": {},
   "source": [
    "A = faulty gene\n",
    "A~ = normal gene\n",
    "X = positive test result\n",
    "\n",
    "P(A) = 0.01\n",
    "P(A~) = 0.99\n",
    "\n",
    "P(A|X) = P(X|A) * P(A) / (P(X|A) * P(A) + P(X|A~) * P(A~))"
   ]
  },
  {
   "cell_type": "code",
   "execution_count": 4,
   "metadata": {},
   "outputs": [
    {
     "data": {
      "text/plain": [
       "0.0865051903114187"
      ]
     },
     "execution_count": 4,
     "metadata": {},
     "output_type": "execute_result"
    }
   ],
   "source": [
    ".9 * .01 / (.9 * .01 + .096 * .99)"
   ]
  },
  {
   "cell_type": "markdown",
   "metadata": {},
   "source": [
    "A = breast cancer\n",
    "A~ = no breast cancer\n",
    "X = positive mammogram result\n",
    "\n",
    "P(A) = 0.01\n",
    "P(A~) = 0.99\n",
    "\n",
    "P(A|X) = P(X|A) * P(A) / (P(X|A) * P(A) + P(X|A~) * P(A~))"
   ]
  },
  {
   "cell_type": "code",
   "execution_count": 5,
   "metadata": {},
   "outputs": [
    {
     "data": {
      "text/plain": [
       "0.10204081632653063"
      ]
     },
     "execution_count": 5,
     "metadata": {},
     "output_type": "execute_result"
    }
   ],
   "source": [
    ".9 * .01 / (.9 * .01 + .08 * .99)"
   ]
  },
  {
   "cell_type": "markdown",
   "metadata": {},
   "source": [
    "A = swine flu\n",
    "A~ = healthy\n",
    "X = positive blood test\n",
    "\n",
    "P(A) = 0.005\n",
    "P(A~) = 0.995\n",
    "\n",
    "P(A|X) = P(X|A) * P(A) / (P(X|A) * P(A) + P(X|A~) * P(A~))"
   ]
  },
  {
   "cell_type": "code",
   "execution_count": 12,
   "metadata": {},
   "outputs": [
    {
     "data": {
      "text/plain": [
       "0.33444816053511706"
      ]
     },
     "execution_count": 12,
     "metadata": {},
     "output_type": "execute_result"
    }
   ],
   "source": [
    "1 * .005 / (1 * .005 + .01 * .995)"
   ]
  },
  {
   "cell_type": "markdown",
   "metadata": {},
   "source": [
    "In each of the scenarios, find possible shortcomings of the theoretical or actual data sources to answer the given question. What could be done to either adjust the analysis or reframe the question so that you can answer it accurately?"
   ]
  },
  {
   "cell_type": "markdown",
   "metadata": {},
   "source": [
    "Theoretical Data Source: Amsterdam availability data scraped from AirBnB on December 24th.\n",
    "\n",
    "Question: What are the popular neighborhoods in Amsterdam?"
   ]
  },
  {
   "cell_type": "markdown",
   "metadata": {},
   "source": [
    "The data was collected under exceptional circumstances (Christmas Eve). As a result, the availability data may not reflect a typical day/night in Amersterdam (likely biased towards neighborhoods that are more residential if family members are in town visiting, neighborhoods close to Christian churches, or neighborhoods that are known for Christmas celebrations/events). In this case, the question could be reframed to what are popular neighborhoods in Amsterdam during the Christmas holidays?"
   ]
  },
  {
   "cell_type": "markdown",
   "metadata": {},
   "source": [
    "Theoretical Data Source: Mental health services use on September 12, 2001 in San Francisco, CA and New York City, NY.\n",
    "\n",
    "Question: How do patterns of mental health service use vary between cities?"
   ]
  },
  {
   "cell_type": "markdown",
   "metadata": {},
   "source": [
    "Again, this data was collected under exceptional circumstances (day after September 11th terror attack in NYC). Mental health services would be expected to be higher than normal in both cities due to the national tragedy, but would be expected to be even higher in NYC. In this case, the question could be reframed to how do patterns of mental health service vary between cities based on proximity to a tragic event."
   ]
  },
  {
   "cell_type": "markdown",
   "metadata": {},
   "source": [
    "Actual Data Source: Armenian Pub Survey.\n",
    "\n",
    "Question: What are the most common reasons Armenians visit local pubs?"
   ]
  },
  {
   "cell_type": "markdown",
   "metadata": {},
   "source": [
    "As an online survey questionnaire, selection bias (access to computer/internet, how survey was distributed, who survey was targeted for) and response rate (non-response rate) need to be considered. Based on the age, occupation, and regional stratum of most respondents, the data is heavily biased towards young adults/students living in the capital. In this case, the question could be reframed to what are the most common reasons young adults/students in Armenia visit local pubs?"
   ]
  }
 ],
 "metadata": {
  "kernelspec": {
   "display_name": "Python 3",
   "language": "python",
   "name": "python3"
  },
  "language_info": {
   "codemirror_mode": {
    "name": "ipython",
    "version": 3
   },
   "file_extension": ".py",
   "mimetype": "text/x-python",
   "name": "python",
   "nbconvert_exporter": "python",
   "pygments_lexer": "ipython3",
   "version": "3.6.6"
  }
 },
 "nbformat": 4,
 "nbformat_minor": 2
}
