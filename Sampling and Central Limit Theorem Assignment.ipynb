{
 "cells": [
  {
   "cell_type": "code",
   "execution_count": 1,
   "metadata": {},
   "outputs": [],
   "source": [
    "import numpy as np\n",
    "import pandas as pd\n",
    "import scipy\n",
    "import matplotlib.pyplot as plt\n",
    "%matplotlib inline"
   ]
  },
  {
   "cell_type": "code",
   "execution_count": 9,
   "metadata": {},
   "outputs": [
    {
     "name": "stdout",
     "output_type": "stream",
     "text": [
      "1.9938\n",
      "5.0284\n"
     ]
    },
    {
     "data": {
      "image/png": "[encoded data removed]",
      "text/plain": [
       "<matplotlib.figure.Figure at 0x1172062b0>"
      ]
     },
     "metadata": {
      "needs_background": "light"
     },
     "output_type": "display_data"
    }
   ],
   "source": [
    "pop1 = np.random.binomial(10, 0.2, 10000)\n",
    "pop2 = np.random.binomial(10, 0.5, 10000)\n",
    "\n",
    "# Print population means\n",
    "print(pop1.mean())\n",
    "print(pop2.mean())\n",
    "\n",
    "# Make histograms from both populations\n",
    "plt.hist(pop1, alpha=0.5, label='Population 1')\n",
    "plt.hist(pop2, alpha=0.5, label='Population 2')\n",
    "plt.legend(loc='upper right')\n",
    "plt.show()"
   ]
  },
  {
   "cell_type": "code",
   "execution_count": 3,
   "metadata": {},
   "outputs": [
    {
     "data": {
      "image/png": "[encoded data removed]",
      "text/plain": [
       "<matplotlib.figure.Figure at 0x1160328d0>"
      ]
     },
     "metadata": {
      "needs_background": "light"
     },
     "output_type": "display_data"
    }
   ],
   "source": [
    "# Take a sample of 100 from each population and plot them\n",
    "sample1 = np.random.choice(pop1, 100, replace=True)\n",
    "sample2 = np.random.choice(pop2, 100, replace=True)\n",
    "\n",
    "plt.hist(sample1, alpha=0.5, label='Sample 1')\n",
    "plt.hist(sample2, alpha=0.5, label='Sample 2')\n",
    "plt.legend(loc='upper right')\n",
    "plt.show()"
   ]
  },
  {
   "cell_type": "code",
   "execution_count": 4,
   "metadata": {},
   "outputs": [
    {
     "name": "stdout",
     "output_type": "stream",
     "text": [
      "2.03\n",
      "5.08\n",
      "1.284172885557081\n",
      "1.585433694608513\n",
      "3.0500000000000003\n"
     ]
    }
   ],
   "source": [
    "# Compute the mean and standard deviation for each sample\n",
    "print(sample1.mean())\n",
    "print(sample2.mean())\n",
    "print(sample1.std())\n",
    "print(sample2.std())\n",
    "\n",
    "# Compute the difference between the two sample means\n",
    "diff = sample2.mean() - sample1.mean()\n",
    "print(diff)"
   ]
  },
  {
   "cell_type": "code",
   "execution_count": 5,
   "metadata": {},
   "outputs": [
    {
     "name": "stdout",
     "output_type": "stream",
     "text": [
      "14.949004851636236\n"
     ]
    }
   ],
   "source": [
    "# Compute the standard error of the sample distribution of the difference of the means\n",
    "# Create an array with the size of each variable and another with the standard deviation of each variable\n",
    "size = np.array([len(sample1), len(sample2)])\n",
    "std = np.array([sample1.std(), sample2.std()])\n",
    "\n",
    "# The squared standard deviations are divided by the sample size and summed, then we take the square root of the sum\n",
    "se = (sum(std ** 2 / size)) ** 0.5\n",
    "\n",
    "# The difference between the means divided by the standard error (also known as the t-value)\n",
    "print(diff / se)"
   ]
  },
  {
   "cell_type": "code",
   "execution_count": 6,
   "metadata": {},
   "outputs": [
    {
     "name": "stdout",
     "output_type": "stream",
     "text": [
      "Ttest_indResult(statistic=14.874072024623965, pvalue=1.1143737472694793e-33)\n"
     ]
    }
   ],
   "source": [
    "# Import the function ttest_ind from scipy.stats, which calculates the t-value (called 'statistic') and provides\n",
    "# the probability calculation (called pvalue)\n",
    "from scipy.stats import ttest_ind\n",
    "print(ttest_ind(sample2, sample1, equal_var=False))"
   ]
  },
  {
   "cell_type": "markdown",
   "metadata": {},
   "source": [
    "For each of the following tasks, first write what you expect will happen, then code the changes and observe what does happen. Discuss the results with your mentor.\n",
    "\n",
    "1. Increase the size of your samples from 100 to 1000, then calculate the means and standard deviations for your new samples and create histograms for each. Repeat this again, decreasing the size of your samples to 20. What values change, and what remain the same?\n",
    "\n",
    "2. Change the probability value (p in the NumPy documentation) for pop1 to 0.3, then take new samples and compute the t-statistic and p-value. Then change the probability value p for group 1 to 0.4, and do it again. What changes, and why?\n",
    "\n",
    "3. Change the distribution of your populations from binomial to a distribution of your choice. Do the sample mean values still accurately represent the population values?"
   ]
  },
  {
   "cell_type": "markdown",
   "metadata": {},
   "source": [
    "Task 1: Increasing the size of the samples will decrease the standard deviation, but won't have much of an effect on the mean. Decreasing the size of the samples will increase the standard deviation and allow for extreme values to skew the mean."
   ]
  },
  {
   "cell_type": "code",
   "execution_count": 11,
   "metadata": {},
   "outputs": [
    {
     "name": "stdout",
     "output_type": "stream",
     "text": [
      "1.993\n",
      "5.099\n",
      "1.2949714282562377\n",
      "1.5444089484330243\n"
     ]
    },
    {
     "data": {
      "image/png": "[encoded data removed]",
      "text/plain": [
       "<matplotlib.figure.Figure at 0x117417cc0>"
      ]
     },
     "metadata": {
      "needs_background": "light"
     },
     "output_type": "display_data"
    }
   ],
   "source": [
    "# Increase size of samples from 100 to 1000\n",
    "sample3 = np.random.choice(pop1, 1000, replace=True)\n",
    "sample4 = np.random.choice(pop2, 1000, replace=True)\n",
    "\n",
    "# Calculate the means and standard deviations of the new samples and create histograms for each\n",
    "print(sample3.mean())\n",
    "print(sample4.mean())\n",
    "print(sample3.std())\n",
    "print(sample4.std())\n",
    "\n",
    "plt.hist(sample1, alpha=0.5, label='Sample 3')\n",
    "plt.hist(sample2, alpha=0.5, label='Sample 4')\n",
    "plt.legend(loc='upper right')\n",
    "plt.show()"
   ]
  },
  {
   "cell_type": "markdown",
   "metadata": {},
   "source": [
    "Standard deviations got smaller, but not by much. Means stayed about the same (pretty close to the population means)."
   ]
  },
  {
   "cell_type": "code",
   "execution_count": 12,
   "metadata": {},
   "outputs": [
    {
     "name": "stdout",
     "output_type": "stream",
     "text": [
      "1.4\n",
      "5.25\n",
      "0.9695359714832659\n",
      "1.7571283390805579\n"
     ]
    },
    {
     "data": {
      "image/png": "[encoded data removed]",
      "text/plain": [
       "<matplotlib.figure.Figure at 0x117520630>"
      ]
     },
     "metadata": {
      "needs_background": "light"
     },
     "output_type": "display_data"
    }
   ],
   "source": [
    "# Decrease the size of amples from 100 to 20\n",
    "sample5 = np.random.choice(pop1, 20, replace=True)\n",
    "sample6 = np.random.choice(pop2, 20, replace=True)\n",
    "\n",
    "# Calculate the means and standard deviations of the new samples and create histograms for each\n",
    "print(sample5.mean())\n",
    "print(sample6.mean())\n",
    "print(sample5.std())\n",
    "print(sample6.std())\n",
    "\n",
    "plt.hist(sample1, alpha=0.5, label='Sample 5')\n",
    "plt.hist(sample2, alpha=0.5, label='Sample 6')\n",
    "plt.legend(loc='upper right')\n",
    "plt.show()"
   ]
  },
  {
   "cell_type": "markdown",
   "metadata": {},
   "source": [
    "Standard deviation for Sample 5 got smaller while standard deviation for Sample 6 got larger. This may reflect the population distributions because Population 1 has a smaller spread than Population 2. The means are farther away from the population means, as predicted. In general though, the changes were pretty small."
   ]
  },
  {
   "cell_type": "markdown",
   "metadata": {},
   "source": [
    "Task 2: The t-statistic will get smaller as p increases because the means between the two populations will become more similar. Accordingly, the p-value will get larger."
   ]
  },
  {
   "cell_type": "code",
   "execution_count": 22,
   "metadata": {},
   "outputs": [
    {
     "name": "stdout",
     "output_type": "stream",
     "text": [
      "3.0012\n",
      "4.9792\n"
     ]
    },
    {
     "data": {
      "image/png": "[encoded data removed]",
      "text/plain": [
       "<matplotlib.figure.Figure at 0x1177f8c88>"
      ]
     },
     "metadata": {
      "needs_background": "light"
     },
     "output_type": "display_data"
    },
    {
     "data": {
      "image/png": "[encoded data removed]",
      "text/plain": [
       "<matplotlib.figure.Figure at 0x1173f8ac8>"
      ]
     },
     "metadata": {
      "needs_background": "light"
     },
     "output_type": "display_data"
    },
    {
     "name": "stdout",
     "output_type": "stream",
     "text": [
      "Ttest_indResult(statistic=11.81945699536202, pvalue=1.1257746027776633e-24)\n"
     ]
    }
   ],
   "source": [
    "# Change the probability value for pop1 to 0.3, then take new samples and compute the t-statistic and p-value.\n",
    "pop3 = np.random.binomial(10, 0.3, 10000)\n",
    "pop4 = np.random.binomial(10, 0.5, 10000)\n",
    "\n",
    "# Print population means\n",
    "print(pop3.mean())\n",
    "print(pop4.mean())\n",
    "\n",
    "# Make histograms from both populations\n",
    "plt.hist(pop3, alpha=0.5, label='Population 3')\n",
    "plt.hist(pop4, alpha=0.5, label='Population 4')\n",
    "plt.legend(loc='upper right')\n",
    "plt.show()\n",
    "\n",
    "# Take a sample of 100 from each population and plot them\n",
    "sample7 = np.random.choice(pop3, 100, replace=True)\n",
    "sample8 = np.random.choice(pop4, 100, replace=True)\n",
    "\n",
    "plt.hist(sample7, alpha=0.5, label='Sample 7')\n",
    "plt.hist(sample8, alpha=0.5, label='Sample 8')\n",
    "plt.legend(loc='upper right')\n",
    "plt.show()\n",
    "\n",
    "# Import the function ttest_ind from scipy.stats, which calculates the t-value (called 'statistic') and provides\n",
    "# the probability calculation (called pvalue)\n",
    "from scipy.stats import ttest_ind\n",
    "print(ttest_ind(sample8, sample7, equal_var=False))"
   ]
  },
  {
   "cell_type": "code",
   "execution_count": 23,
   "metadata": {},
   "outputs": [
    {
     "name": "stdout",
     "output_type": "stream",
     "text": [
      "4.0062\n",
      "4.9946\n"
     ]
    },
    {
     "data": {
      "image/png": "[encoded data removed]",
      "text/plain": [
       "<matplotlib.figure.Figure at 0x1173e8048>"
      ]
     },
     "metadata": {
      "needs_background": "light"
     },
     "output_type": "display_data"
    },
    {
     "data": {
      "image/png": "[encoded data removed]",
      "text/plain": [
       "<matplotlib.figure.Figure at 0x117605400>"
      ]
     },
     "metadata": {
      "needs_background": "light"
     },
     "output_type": "display_data"
    },
    {
     "name": "stdout",
     "output_type": "stream",
     "text": [
      "Ttest_indResult(statistic=6.1570679831915, pvalue=4.141455645349054e-09)\n"
     ]
    }
   ],
   "source": [
    "# Change the probability value p for pop1 to 0.4, and do it again.\n",
    "pop3 = np.random.binomial(10, 0.4, 10000)\n",
    "pop4 = np.random.binomial(10, 0.5, 10000)\n",
    "\n",
    "# Print population means\n",
    "print(pop3.mean())\n",
    "print(pop4.mean())\n",
    "\n",
    "# Make histograms from both populations\n",
    "plt.hist(pop3, alpha=0.5, label='Population 3')\n",
    "plt.hist(pop4, alpha=0.5, label='Population 4')\n",
    "plt.legend(loc='upper right')\n",
    "plt.show()\n",
    "\n",
    "# Take a sample of 100 from each population and plot them\n",
    "sample7 = np.random.choice(pop3, 100, replace=True)\n",
    "sample8 = np.random.choice(pop4, 100, replace=True)\n",
    "\n",
    "plt.hist(sample7, alpha=0.5, label='Sample 7')\n",
    "plt.hist(sample8, alpha=0.5, label='Sample 8')\n",
    "plt.legend(loc='upper right')\n",
    "plt.show()\n",
    "\n",
    "# Import the function ttest_ind from scipy.stats, which calculates the t-value (called 'statistic') and provides\n",
    "# the probability calculation (called pvalue)\n",
    "from scipy.stats import ttest_ind\n",
    "print(ttest_ind(sample8, sample7, equal_var=False))"
   ]
  },
  {
   "cell_type": "markdown",
   "metadata": {},
   "source": [
    "My predictions were correct. The t-value decreases and the p-value increases as the populations become more similar."
   ]
  },
  {
   "cell_type": "markdown",
   "metadata": {},
   "source": [
    "Task 3: The sample means will still accurately represent the population values (assuming the sample sizes are large enough). This is the essence of the Central Limit Theorem."
   ]
  },
  {
   "cell_type": "code",
   "execution_count": 24,
   "metadata": {},
   "outputs": [
    {
     "name": "stdout",
     "output_type": "stream",
     "text": [
      "4.973549066596305\n",
      "10.161185897440657\n"
     ]
    },
    {
     "data": {
      "image/png": "[encoded data removed]",
      "text/plain": [
       "<matplotlib.figure.Figure at 0x117d955c0>"
      ]
     },
     "metadata": {
      "needs_background": "light"
     },
     "output_type": "display_data"
    },
    {
     "name": "stdout",
     "output_type": "stream",
     "text": [
      "4.610867630329083\n",
      "9.181702574255318\n"
     ]
    },
    {
     "data": {
      "image/png": "[encoded data removed]",
      "text/plain": [
       "<matplotlib.figure.Figure at 0x1173d7c50>"
      ]
     },
     "metadata": {
      "needs_background": "light"
     },
     "output_type": "display_data"
    }
   ],
   "source": [
    "# Change the disribution of the populations\n",
    "pop5 = np.random.exponential(5, 1000)\n",
    "pop6 = np.random.exponential(10, 1000)\n",
    "\n",
    "# Print population means\n",
    "print(pop5.mean())\n",
    "print(pop6.mean())\n",
    "\n",
    "# Make histograms from both populations\n",
    "plt.hist(pop5, alpha=0.5, label='Population 5')\n",
    "plt.hist(pop6, alpha=0.5, label='Population 6')\n",
    "plt.legend(loc='upper right')\n",
    "plt.show()\n",
    "\n",
    "# Take a sample of 100 from each population and plot them\n",
    "sample9 = np.random.choice(pop5, 100, replace=True)\n",
    "sample10 = np.random.choice(pop6, 100, replace=True)\n",
    "\n",
    "print(sample9.mean())\n",
    "print(sample10.mean())\n",
    "\n",
    "plt.hist(sample9, alpha=0.5, label='Sample 9')\n",
    "plt.hist(sample10, alpha=0.5, label='Sample 10')\n",
    "plt.legend(loc='upper right')\n",
    "plt.show()"
   ]
  },
  {
   "cell_type": "markdown",
   "metadata": {},
   "source": [
    "My prediction was correct. The sample means still accurately represent the population values."
   ]
  }
 ],
 "metadata": {
  "kernelspec": {
   "display_name": "Python 3",
   "language": "python",
   "name": "python3"
  },
  "language_info": {
   "codemirror_mode": {
    "name": "ipython",
    "version": 3
   },
   "file_extension": ".py",
   "mimetype": "text/x-python",
   "name": "python",
   "nbconvert_exporter": "python",
   "pygments_lexer": "ipython3",
   "version": "3.6.6"
  }
 },
 "nbformat": 4,
 "nbformat_minor": 2
}
